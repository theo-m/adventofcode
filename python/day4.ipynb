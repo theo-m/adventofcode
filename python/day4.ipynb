{
 "cells": [
  {
   "cell_type": "code",
   "execution_count": 37,
   "metadata": {
    "collapsed": true
   },
   "outputs": [],
   "source": [
    "with open(\"../inputs/day4.test.txt\") as fi:\n",
    "    numbers_, *lines_ = fi.readlines()\n",
    "\n",
    "numbers = [int(n) for n in numbers_.split(\",\")]\n",
    "boards_rows = [\n",
    "    [\n",
    "        [int(n) for n in line.split()]\n",
    "        for line in lines_[i * 6 + 1:i * 6 + 6]\n",
    "    ]\n",
    "    for i in range(len(lines_) // 6)]\n",
    "boards = [[*b, *list(map(list, zip(*b)))] for b in boards_rows]"
   ]
  },
  {
   "cell_type": "code",
   "execution_count": 39,
   "outputs": [
    {
     "name": "stdout",
     "output_type": "stream",
     "text": [
      "removing board 0 at n:7 with score 959.0\n",
      "removing board 1 at n:4 with score 424.0\n",
      "removing board 2 at n:9 with score 1692.0\n",
      "1 2 9 188\n"
     ]
    }
   ],
   "source": [
    "finished = {}\n",
    "for n in numbers:\n",
    "    # print(n, finished.keys())\n",
    "    # if n == 13: break\n",
    "    for i, board in enumerate(boards):\n",
    "        if i in finished: continue\n",
    "\n",
    "        for j, seq in enumerate(board):\n",
    "            if n in seq:\n",
    "                seq.remove(n)\n",
    "        assert len([len(s) == 0 for s in board]) % 2 == 0\n",
    "        if any(len(s) == 0 for s in board):\n",
    "            finished[i] = n * sum(x for seq in board for x in seq) / 2\n",
    "            print(f\"removing board {i} at n:{n} with score {finished[i]}\")\n",
    "            break\n",
    "\n",
    "print(n, i, j, sum(n for seq in boards[i][:5] for n in seq))"
   ],
   "metadata": {
    "collapsed": false,
    "pycharm": {
     "name": "#%%\n"
    }
   }
  },
  {
   "cell_type": "code",
   "execution_count": 32,
   "outputs": [
    {
     "data": {
      "text/plain": "[{'a': 3}, {'a': 3}, {'a': 3}, {'a': 3}, {'a': 3}]"
     },
     "execution_count": 32,
     "metadata": {},
     "output_type": "execute_result"
    }
   ],
   "source": [
    "boards[1]"
   ],
   "metadata": {
    "collapsed": false,
    "pycharm": {
     "name": "#%%\n"
    }
   }
  },
  {
   "cell_type": "code",
   "execution_count": 36,
   "outputs": [
    {
     "name": "stdout",
     "output_type": "stream",
     "text": [
      "board 2 finished at 12\n",
      "board 0 finished at 18\n",
      "board 1 finished at 18\n"
     ]
    }
   ],
   "source": [
    "from collections import defaultdict\n",
    "\n",
    "marks = [defaultdict(int) for _ in range(len(boards))]\n",
    "finished = []\n",
    "for n in numbers:\n",
    "    for i, board in enumerate(boards):\n",
    "        if i in finished: continue\n",
    "        indexes = [(j, k) for j, seq in enumerate(board) for k, n_ in enumerate(seq) if n_ == n]\n",
    "        for j, k in indexes:\n",
    "            marks[i][j] += 1\n",
    "            marks[i][10 + k] += 1\n",
    "        if 5 in list(marks[i].values()):\n",
    "            print(f\"board {i} finished at {n}\")\n",
    "            finished.append(i)"
   ],
   "metadata": {
    "collapsed": false,
    "pycharm": {
     "name": "#%%\n"
    }
   }
  },
  {
   "cell_type": "code",
   "execution_count": 55,
   "outputs": [
    {
     "name": "stdout",
     "output_type": "stream",
     "text": [
      "--- 7\n",
      "0 [0, 0, 0, 0, 1] [0, 0, 1, 0, 0]\n",
      "1 [0, 0, 1, 0, 0] [0, 0, 1, 0, 0]\n",
      "2 [0, 0, 0, 0, 1] [0, 0, 0, 0, 1]\n",
      "--- 4\n",
      "0 [0, 0, 0, 1, 1] [0, 1, 1, 0, 0]\n",
      "1 [0, 0, 1, 0, 1] [0, 0, 1, 1, 0]\n",
      "2 [0, 0, 0, 0, 2] [1, 0, 0, 0, 1]\n",
      "--- 9\n",
      "0 [0, 1, 0, 1, 1] [0, 1, 2, 0, 0]\n",
      "1 [1, 0, 1, 0, 1] [0, 1, 1, 1, 0]\n",
      "2 [0, 0, 0, 1, 2] [1, 1, 0, 0, 1]\n",
      "--- 5\n",
      "0 [0, 1, 0, 1, 2] [0, 1, 2, 1, 0]\n",
      "1 [1, 0, 1, 0, 2] [0, 2, 1, 1, 0]\n",
      "2 [0, 0, 0, 1, 3] [1, 1, 0, 1, 1]\n",
      "--- 11\n",
      "0 [0, 1, 0, 2, 2] [1, 1, 2, 1, 0]\n",
      "1 [1, 1, 1, 0, 2] [0, 2, 1, 2, 0]\n",
      "2 [0, 1, 0, 1, 3] [1, 1, 0, 2, 1]\n",
      "--- 17\n",
      "0 [0, 1, 1, 2, 2] [2, 1, 2, 1, 0]\n",
      "1 [1, 1, 1, 1, 2] [0, 3, 1, 2, 0]\n",
      "2 [0, 1, 1, 1, 3] [2, 1, 0, 2, 1]\n",
      "--- 23\n",
      "0 [0, 1, 2, 2, 2] [2, 2, 2, 1, 0]\n",
      "1 [1, 1, 1, 1, 3] [0, 3, 2, 2, 0]\n",
      "2 [0, 1, 2, 1, 3] [2, 1, 1, 2, 1]\n",
      "--- 2\n",
      "0 [0, 2, 2, 2, 2] [2, 3, 2, 1, 0]\n",
      "1 [1, 1, 1, 2, 3] [1, 3, 2, 2, 0]\n",
      "2 [1, 1, 2, 1, 3] [2, 1, 1, 2, 2]\n",
      "--- 0\n",
      "0 [0, 2, 2, 2, 3] [3, 3, 2, 1, 0]\n",
      "1 [1, 1, 2, 2, 3] [2, 3, 2, 2, 0]\n",
      "2 [1, 2, 2, 1, 3] [2, 1, 1, 2, 3]\n",
      "--- 14\n",
      "0 [0, 2, 3, 2, 3] [3, 3, 3, 1, 0]\n",
      "1 [2, 1, 2, 2, 3] [2, 3, 2, 2, 1]\n",
      "2 [2, 2, 2, 1, 3] [3, 1, 1, 2, 3]\n",
      "--- 21\n",
      "0 [1, 2, 3, 2, 3] [3, 3, 4, 1, 0]\n",
      "1 [2, 2, 2, 2, 3] [2, 3, 2, 2, 2]\n",
      "2 [2, 3, 2, 1, 3] [4, 1, 1, 2, 3]\n",
      "--- 24\n",
      "0 [1, 2, 3, 2, 4] [3, 4, 4, 1, 0]\n",
      "1 [2, 2, 2, 3, 3] [2, 3, 2, 3, 2]\n",
      "2 [2, 3, 2, 2, 3] [5, 1, 1, 2, 3]\n",
      "board 2 out at n=24, sc=4512\n",
      "--- 10\n",
      "0 [1, 3, 3, 2, 4] [3, 4, 4, 2, 0]\n",
      "1 [2, 2, 3, 3, 3] [2, 3, 2, 4, 2]\n",
      "--- 16\n",
      "0 [1, 3, 3, 3, 4] [3, 4, 5, 2, 0]\n",
      "board 0 out at n=16, sc=2192\n",
      "1 [2, 2, 4, 3, 3] [2, 3, 2, 4, 3]\n",
      "--- 13\n",
      "1 [2, 2, 5, 3, 3] [2, 4, 2, 4, 3]\n",
      "board 1 out at n=13, sc=1924\n",
      "--- 6\n",
      "--- 15\n",
      "--- 25\n",
      "--- 12\n",
      "--- 22\n",
      "--- 18\n",
      "--- 20\n",
      "--- 8\n",
      "--- 19\n",
      "--- 3\n",
      "--- 26\n",
      "--- 1\n"
     ]
    }
   ],
   "source": [
    "with open(\"../inputs/day4.test.txt\") as fi:\n",
    "    numbers_, *lines_ = fi.readlines()\n",
    "\n",
    "numbers = [int(n) for n in numbers_.split(\",\")]\n",
    "boards = [\n",
    "    [int(n) for line in lines_[i * 6 + 1:i * 6 + 6] for n in line.split()]\n",
    "    for i in range(len(lines_) // 6)\n",
    "\n",
    "]\n",
    "\n",
    "out = []\n",
    "for n in numbers:\n",
    "    print(\"---\", n)\n",
    "    for i, board in enumerate(boards):\n",
    "        if i in out: continue\n",
    "        boards[i] = [None if x == n else x for x in board]\n",
    "        ids = [i for i, x in enumerate(boards[i]) if x is None]\n",
    "        cols = [sum([1 for j in ids if j % 5 == c]) for c in range(5)]\n",
    "        rows = [sum([1 for j in ids if j // 5 == c]) for c in range(5)]\n",
    "        print(i, cols, rows)\n",
    "        if any(c == 5 for c in cols) or any(r == 5 for r in rows):\n",
    "            out.append(i)\n",
    "            print(f\"board {i} out at n={n}, sc={n * sum(x for x in boards[i] if x is not None)}\")\n",
    "\n"
   ],
   "metadata": {
    "collapsed": false,
    "pycharm": {
     "name": "#%%\n"
    }
   }
  }
 ],
 "metadata": {
  "kernelspec": {
   "display_name": "Python 3",
   "language": "python",
   "name": "python3"
  },
  "language_info": {
   "codemirror_mode": {
    "name": "ipython",
    "version": 2
   },
   "file_extension": ".py",
   "mimetype": "text/x-python",
   "name": "python",
   "nbconvert_exporter": "python",
   "pygments_lexer": "ipython2",
   "version": "2.7.6"
  }
 },
 "nbformat": 4,
 "nbformat_minor": 0
}