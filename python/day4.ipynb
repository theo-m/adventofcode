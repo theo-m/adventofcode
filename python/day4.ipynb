{
 "cells": [
  {
   "cell_type": "code",
   "execution_count": 31,
   "metadata": {
    "collapsed": true
   },
   "outputs": [
    {
     "name": "stdout",
     "output_type": "stream",
     "text": [
      "removing board 87 at n:21 with score 16716.0\n",
      "removing board 44 at n:59 with score 58764.0\n",
      "removing board 19 at n:96 with score 81120.0\n",
      "removing board 9 at n:51 with score 39372.0\n",
      "removing board 59 at n:57 with score 44346.0\n",
      "removing board 76 at n:32 with score 25184.0\n",
      "removing board 75 at n:74 with score 59200.0\n",
      "removing board 73 at n:76 with score 49780.0\n",
      "removing board 12 at n:65 with score 23725.0\n",
      "removing board 0 at n:62 with score 39308.0\n",
      "removing board 34 at n:67 with score 48910.0\n",
      "removing board 1 at n:48 with score 22368.0\n",
      "removing board 4 at n:12 with score 7596.0\n",
      "removing board 99 at n:8 with score 6176.0\n",
      "removing board 86 at n:68 with score 60656.0\n",
      "removing board 36 at n:31 with score 21173.0\n",
      "removing board 78 at n:19 with score 10849.0\n",
      "removing board 29 at n:36 with score 33624.0\n",
      "removing board 23 at n:98 with score 75166.0\n",
      "removing board 13 at n:30 with score 9630.0\n",
      "removing board 14 at n:91 with score 56147.0\n",
      "removing board 43 at n:89 with score 64436.0\n",
      "removing board 20 at n:66 with score 31218.0\n",
      "removing board 48 at n:80 with score 48640.0\n",
      "removing board 6 at n:75 with score 34800.0\n",
      "removing board 3 at n:4 with score 2332.0\n",
      "removing board 16 at n:23 with score 12926.0\n",
      "removing board 8 at n:70 with score 29330.0\n",
      "removing board 56 at n:87 with score 46632.0\n",
      "removing board 7 at n:90 with score 38430.0\n",
      "removing board 31 at n:13 with score 6539.0\n",
      "removing board 28 at n:56 with score 24696.0\n",
      "removing board 58 at n:34 with score 29682.0\n",
      "removing board 24 at n:24 with score 5736.0\n",
      "removing board 45 at n:41 with score 30217.0\n",
      "removing board 2 at n:92 with score 30268.0\n",
      "removing board 11 at n:49 with score 21119.0\n",
      "removing board 26 at n:73 with score 46574.0\n",
      "removing board 35 at n:10 with score 5080.0\n",
      "removing board 22 at n:26 with score 9568.0\n",
      "removing board 15 at n:42 with score 14616.0\n",
      "removing board 5 at n:40 with score 5440.0\n",
      "removing board 17 at n:33 with score 16599.0\n",
      "removing board 27 at n:54 with score 23328.0\n",
      "removing board 10 at n:86 with score 42484.0\n",
      "removing board 25 at n:82 with score 39606.0\n",
      "removing board 21 at n:72 with score 27288.0\n",
      "removing board 18 at n:2 with score 700.0\n",
      "removing board 55 at n:78 with score 27222.0\n",
      "removing board 90 at n:11 with score 6435.0\n",
      "removing board 46 at n:44 with score 17820.0\n",
      "removing board 30 at n:69 with score 34155.0\n",
      "removing board 47 at n:64 with score 34496.0\n",
      "64 47 9 539\n"
     ]
    }
   ],
   "source": [
    "with open(\"../inputs/day4.txt\") as fi:\n",
    "    numbers_, *lines_ = fi.readlines()\n",
    "\n",
    "numbers = [int(n) for n in numbers_.split(\",\")]\n",
    "boards_rows = [\n",
    "    [\n",
    "        [int(n) for n in line.split()]\n",
    "        for line in lines_[i * 6 + 1:i * 6 + 6]\n",
    "    ]\n",
    "    for i in range(len(lines_) // 6)]\n",
    "boards = [[*b, *list(map(list, zip(*b)))] for b in boards_rows]\n",
    "\n",
    "finished = {}\n",
    "for n in numbers:\n",
    "    # print(n, finished.keys())\n",
    "    # if n == 13: break\n",
    "    for i, board in enumerate(boards):\n",
    "        if i in finished: continue\n",
    "\n",
    "        for j, seq in enumerate(board):\n",
    "            if n in seq:\n",
    "                seq.remove(n)\n",
    "        if any(len(s) == 0 for s in board):\n",
    "            finished[i] = n * sum(x for seq in boards[i] for x in seq) / 2\n",
    "            print(f\"removing board {i} at n:{n} with score {finished[i]}\")\n",
    "            break\n",
    "\n",
    "print(n, i, j, sum(n for seq in boards[i][:5] for n in seq))"
   ]
  },
  {
   "cell_type": "code",
   "execution_count": 30,
   "outputs": [
    {
     "data": {
      "text/plain": "[[3, 15, 22],\n [18, 13],\n [19, 8, 25],\n [20],\n [16, 12, 6],\n [3, 19, 20],\n [15, 18, 8],\n [13, 16],\n [25, 12],\n [22, 6]]"
     },
     "execution_count": 30,
     "metadata": {},
     "output_type": "execute_result"
    }
   ],
   "source": [
    "boards[1]\n",
    "\n"
   ],
   "metadata": {
    "collapsed": false,
    "pycharm": {
     "name": "#%%\n"
    }
   }
  }
 ],
 "metadata": {
  "kernelspec": {
   "display_name": "Python 3",
   "language": "python",
   "name": "python3"
  },
  "language_info": {
   "codemirror_mode": {
    "name": "ipython",
    "version": 2
   },
   "file_extension": ".py",
   "mimetype": "text/x-python",
   "name": "python",
   "nbconvert_exporter": "python",
   "pygments_lexer": "ipython2",
   "version": "2.7.6"
  }
 },
 "nbformat": 4,
 "nbformat_minor": 0
}