{
 "cells": [
  {
   "cell_type": "code",
   "execution_count": 8,
   "id": "0f44cfeb",
   "metadata": {},
   "outputs": [],
   "source": [
    "with open(\"../inputs/day1.txt\") as fi:\n",
    "    sonar = [int(l.strip()) for l in fi]"
   ]
  },
  {
   "cell_type": "code",
   "execution_count": 11,
   "id": "f4f4e004",
   "metadata": {
    "scrolled": false
   },
   "outputs": [
    {
     "data": {
      "text/plain": [
       "1548"
      ]
     },
     "execution_count": 11,
     "metadata": {},
     "output_type": "execute_result"
    }
   ],
   "source": [
    "# part 1\n",
    "sum(1 if b - a > 0 else 0 for a, b in zip(sonar[:-1], sonar[1:]))"
   ]
  },
  {
   "cell_type": "code",
   "execution_count": 15,
   "id": "839da4de",
   "metadata": {},
   "outputs": [
    {
     "data": {
      "text/plain": [
       "1589"
      ]
     },
     "execution_count": 15,
     "metadata": {},
     "output_type": "execute_result"
    }
   ],
   "source": [
    "# part 2\n",
    "n = len(sonar)\n",
    "sum3 = [sum(sonar[i:i+3]) for i in range(n)]\n",
    "sum(1 if b - a > 0 else 0 for a, b in zip(sum3[:-1], sum3[1:]))"
   ]
  }
 ],
 "metadata": {
  "kernelspec": {
   "display_name": "Python 3 (ipykernel)",
   "language": "python",
   "name": "python3"
  },
  "language_info": {
   "codemirror_mode": {
    "name": "ipython",
    "version": 3
   },
   "file_extension": ".py",
   "mimetype": "text/x-python",
   "name": "python",
   "nbconvert_exporter": "python",
   "pygments_lexer": "ipython3",
   "version": "3.10.0"
  }
 },
 "nbformat": 4,
 "nbformat_minor": 5
}